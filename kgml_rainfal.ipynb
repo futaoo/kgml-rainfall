{
  "nbformat": 4,
  "nbformat_minor": 0,
  "metadata": {
    "colab": {
      "name": "kgml-rainfal.ipynb",
      "provenance": [],
      "collapsed_sections": [],
      "toc_visible": true,
      "authorship_tag": "ABX9TyOKYeSpvedPc3W50Uvr7zDp",
      "include_colab_link": true
    },
    "kernelspec": {
      "display_name": "Python 3",
      "name": "python3"
    },
    "language_info": {
      "name": "python"
    }
  },
  "cells": [
    {
      "cell_type": "markdown",
      "metadata": {
        "id": "view-in-github",
        "colab_type": "text"
      },
      "source": [
        "<a href=\"https://colab.research.google.com/github/futaoo/kgml-rainfall/blob/main/kgml_rainfal.ipynb\" target=\"_parent\"><img src=\"https://colab.research.google.com/assets/colab-badge.svg\" alt=\"Open In Colab\"/></a>"
      ]
    },
    {
      "cell_type": "code",
      "metadata": {
        "colab": {
          "base_uri": "https://localhost:8080/"
        },
        "id": "9JLBcYsYcgUK",
        "outputId": "31b5a91e-629c-4736-d8ea-160176770e85"
      },
      "source": [
        "import os, sys\n",
        "from google.colab import drive\n",
        "drive.mount('/content/drive')\n",
        "os.chdir('/content/drive/My Drive/Colab Notebooks/KGExtension-code/')"
      ],
      "execution_count": 1,
      "outputs": [
        {
          "output_type": "stream",
          "name": "stdout",
          "text": [
            "Mounted at /content/drive\n"
          ]
        }
      ]
    },
    {
      "cell_type": "markdown",
      "metadata": {
        "id": "sBDTd4aWdQtl"
      },
      "source": [
        "##Pip Packages"
      ]
    },
    {
      "cell_type": "code",
      "metadata": {
        "colab": {
          "base_uri": "https://localhost:8080/"
        },
        "id": "fHs8ngTeQFwJ",
        "outputId": "d9418c54-40df-4a8b-d96b-52b7508b0ed7"
      },
      "source": [
        "!pip install kgextension"
      ],
      "execution_count": 2,
      "outputs": [
        {
          "output_type": "stream",
          "name": "stdout",
          "text": [
            "Collecting kgextension\n",
            "  Downloading kgextension-0.1.1-py3-none-any.whl (62 kB)\n",
            "\u001b[?25l\r\u001b[K     |█████▎                          | 10 kB 29.5 MB/s eta 0:00:01\r\u001b[K     |██████████▌                     | 20 kB 30.1 MB/s eta 0:00:01\r\u001b[K     |███████████████▊                | 30 kB 18.7 MB/s eta 0:00:01\r\u001b[K     |█████████████████████           | 40 kB 16.5 MB/s eta 0:00:01\r\u001b[K     |██████████████████████████▏     | 51 kB 7.5 MB/s eta 0:00:01\r\u001b[K     |███████████████████████████████▌| 61 kB 8.7 MB/s eta 0:00:01\r\u001b[K     |████████████████████████████████| 62 kB 1.1 MB/s \n",
            "\u001b[?25hCollecting strsimpy\n",
            "  Downloading strsimpy-0.2.1-py3-none-any.whl (45 kB)\n",
            "\u001b[?25l\r\u001b[K     |███████▏                        | 10 kB 36.0 MB/s eta 0:00:01\r\u001b[K     |██████████████▎                 | 20 kB 42.6 MB/s eta 0:00:01\r\u001b[K     |█████████████████████▍          | 30 kB 47.2 MB/s eta 0:00:01\r\u001b[K     |████████████████████████████▋   | 40 kB 50.1 MB/s eta 0:00:01\r\u001b[K     |████████████████████████████████| 45 kB 4.2 MB/s \n",
            "\u001b[?25hCollecting deckar01-ratelimit\n",
            "  Downloading deckar01_ratelimit-3.0.1-py3-none-any.whl (6.8 kB)\n",
            "Requirement already satisfied: pandas>=1.1.0 in /usr/local/lib/python3.7/dist-packages (from kgextension) (1.1.5)\n",
            "Requirement already satisfied: requests in /usr/local/lib/python3.7/dist-packages (from kgextension) (2.23.0)\n",
            "Collecting pyspotlight\n",
            "  Downloading pyspotlight-0.7.2-py2.py3-none-any.whl (15 kB)\n",
            "Requirement already satisfied: scikit-learn in /usr/local/lib/python3.7/dist-packages (from kgextension) (0.22.2.post1)\n",
            "Collecting fuzzywuzzy\n",
            "  Downloading fuzzywuzzy-0.18.0-py2.py3-none-any.whl (18 kB)\n",
            "Requirement already satisfied: networkx in /usr/local/lib/python3.7/dist-packages (from kgextension) (2.6.3)\n",
            "Collecting SPARQLWrapper\n",
            "  Downloading SPARQLWrapper-1.8.5-py3-none-any.whl (26 kB)\n",
            "Collecting validators\n",
            "  Downloading validators-0.18.2-py3-none-any.whl (19 kB)\n",
            "Requirement already satisfied: tqdm in /usr/local/lib/python3.7/dist-packages (from kgextension) (4.62.3)\n",
            "Collecting rdflib\n",
            "  Downloading rdflib-6.0.2-py3-none-any.whl (407 kB)\n",
            "\u001b[K     |████████████████████████████████| 407 kB 22.6 MB/s \n",
            "\u001b[?25hRequirement already satisfied: numpy in /usr/local/lib/python3.7/dist-packages (from kgextension) (1.19.5)\n",
            "Requirement already satisfied: lxml in /usr/local/lib/python3.7/dist-packages (from kgextension) (4.2.6)\n",
            "Collecting info-gain\n",
            "  Downloading info_gain-1.0.1-py3-none-any.whl (3.3 kB)\n",
            "Requirement already satisfied: pytz>=2017.2 in /usr/local/lib/python3.7/dist-packages (from pandas>=1.1.0->kgextension) (2018.9)\n",
            "Requirement already satisfied: python-dateutil>=2.7.3 in /usr/local/lib/python3.7/dist-packages (from pandas>=1.1.0->kgextension) (2.8.2)\n",
            "Requirement already satisfied: six>=1.5 in /usr/local/lib/python3.7/dist-packages (from python-dateutil>=2.7.3->pandas>=1.1.0->kgextension) (1.15.0)\n",
            "Requirement already satisfied: idna<3,>=2.5 in /usr/local/lib/python3.7/dist-packages (from requests->kgextension) (2.10)\n",
            "Requirement already satisfied: certifi>=2017.4.17 in /usr/local/lib/python3.7/dist-packages (from requests->kgextension) (2021.10.8)\n",
            "Requirement already satisfied: urllib3!=1.25.0,!=1.25.1,<1.26,>=1.21.1 in /usr/local/lib/python3.7/dist-packages (from requests->kgextension) (1.24.3)\n",
            "Requirement already satisfied: chardet<4,>=3.0.2 in /usr/local/lib/python3.7/dist-packages (from requests->kgextension) (3.0.4)\n",
            "Requirement already satisfied: pyparsing in /usr/local/lib/python3.7/dist-packages (from rdflib->kgextension) (2.4.7)\n",
            "Collecting isodate\n",
            "  Downloading isodate-0.6.0-py2.py3-none-any.whl (45 kB)\n",
            "\u001b[K     |████████████████████████████████| 45 kB 3.7 MB/s \n",
            "\u001b[?25hRequirement already satisfied: setuptools in /usr/local/lib/python3.7/dist-packages (from rdflib->kgextension) (57.4.0)\n",
            "Requirement already satisfied: joblib>=0.11 in /usr/local/lib/python3.7/dist-packages (from scikit-learn->kgextension) (1.1.0)\n",
            "Requirement already satisfied: scipy>=0.17.0 in /usr/local/lib/python3.7/dist-packages (from scikit-learn->kgextension) (1.4.1)\n",
            "Requirement already satisfied: decorator>=3.4.0 in /usr/local/lib/python3.7/dist-packages (from validators->kgextension) (4.4.2)\n",
            "Installing collected packages: isodate, rdflib, validators, strsimpy, SPARQLWrapper, pyspotlight, info-gain, fuzzywuzzy, deckar01-ratelimit, kgextension\n",
            "Successfully installed SPARQLWrapper-1.8.5 deckar01-ratelimit-3.0.1 fuzzywuzzy-0.18.0 info-gain-1.0.1 isodate-0.6.0 kgextension-0.1.1 pyspotlight-0.7.2 rdflib-6.0.2 strsimpy-0.2.1 validators-0.18.2\n"
          ]
        }
      ]
    },
    {
      "cell_type": "markdown",
      "metadata": {
        "id": "yqJ3MqTCZKTx"
      },
      "source": [
        "##Scripts"
      ]
    },
    {
      "cell_type": "markdown",
      "metadata": {
        "id": "7V8TL2hjZp7J"
      },
      "source": [
        "###Imports"
      ]
    },
    {
      "cell_type": "code",
      "metadata": {
        "id": "hwqImIdYdIa3"
      },
      "source": [
        "import kgextension\n",
        "import pandas as pd\n",
        "from kgextension.sparql_helper import RemoteEndpoint\n",
        "from kgextension.sparql_helper import endpoint_wrapper\n",
        "from kgextension.linking import label_linker\n",
        "from kgextension.generator import data_properties_generator\n",
        "from kgextension.generator import unqualified_relation_generator\n",
        "from kgextension.generator import specific_relation_generator\n",
        "from kgextension.generator import custom_sparql_generator\n",
        "from kgextension.linking import dbpedia_spotlight_linker\n",
        "from kgextension.link_exploration import link_explorer\n",
        "from kgextension.uri_helper import uri_querier\n",
        "from kgextension.endpoints import DBpedia\n",
        "\n",
        "\n",
        "from pandas import DataFrame\n",
        "from pandas import concat\n",
        "\n",
        "\n",
        "from sklearn.model_selection import train_test_split\n",
        "from sklearn import preprocessing\n",
        "import numpy as np\n",
        "\n",
        "import matplotlib.pyplot as plt\n",
        "from sklearn.ensemble import RandomForestClassifier\n",
        "from sklearn.metrics import classification_report, confusion_matrix, ConfusionMatrixDisplay\n",
        "\n",
        "from sklearn.svm import SVC\n",
        "\n",
        "from sklearn.neural_network import MLPClassifier\n",
        "\n",
        "from sklearn.neighbors import KNeighborsClassifier"
      ],
      "execution_count": 3,
      "outputs": []
    },
    {
      "cell_type": "markdown",
      "metadata": {
        "id": "aRDNdmKwB6ma"
      },
      "source": [
        "###Functions"
      ]
    },
    {
      "cell_type": "code",
      "metadata": {
        "id": "vGQORdmuB974"
      },
      "source": [
        "def series_to_supervised(data, n_in=1, n_out=1, dropnan=True):\n",
        "\t\"\"\"\n",
        "\tFrame a time series as a supervised learning dataset.\n",
        "\tArguments:\n",
        "\t\tdata: Sequence of observations as a list or NumPy array.\n",
        "\t\tn_in: Number of lag observations as input (X).\n",
        "\t\tn_out: Number of observations as output (y).\n",
        "\t\tdropnan: Boolean whether or not to drop rows with NaN values.\n",
        "\tReturns:\n",
        "\t\tPandas DataFrame of series framed for supervised learning.\n",
        "\t\"\"\"\n",
        "\tn_vars = 1 if type(data) is list else data.shape[1]\n",
        "\tdf = DataFrame(data)\n",
        "\tcols, names = list(), list()\n",
        "\t# input sequence (t-n, ... t-1)\n",
        "\tfor i in range(n_in, 0, -1):\n",
        "\t\tcols.append(df.shift(i))\n",
        "\t\tnames += [('var%d(t-%d)' % (j+1, i)) for j in range(n_vars)]\n",
        "\t# forecast sequence (t, t+1, ... t+n)\n",
        "\tfor i in range(0, n_out):\n",
        "\t\tcols.append(df.shift(-i))\n",
        "\t\tif i == 0:\n",
        "\t\t\tnames += [('var%d(t)' % (j+1)) for j in range(n_vars)]\n",
        "\t\telse:\n",
        "\t\t\tnames += [('var%d(t+%d)' % (j+1, i)) for j in range(n_vars)]\n",
        "\t# put it all together\n",
        "\tagg = concat(cols, axis=1)\n",
        "\tagg.columns = names\n",
        "\t# drop rows with NaN values\n",
        "\tif dropnan:\n",
        "\t\tagg.dropna(inplace=True)\n",
        "\treturn agg\n",
        "\n",
        "\n",
        "def prcp_map(x):\n",
        "    value = 'yes' if x > 0 else 'no'\n",
        "    return value"
      ],
      "execution_count": 4,
      "outputs": []
    },
    {
      "cell_type": "markdown",
      "metadata": {
        "id": "UNXC0K9NZwtx"
      },
      "source": [
        "###Prepare Data"
      ]
    },
    {
      "cell_type": "code",
      "metadata": {
        "id": "Or67Z6q9Ckxw"
      },
      "source": [
        "climate_kg = RemoteEndpoint(url = \"http://jresearch.ucd.ie/kg/climate/sparql\", timeout=120, requests_per_min=100*60, retries=10, page_size=10000)"
      ],
      "execution_count": null,
      "outputs": []
    },
    {
      "cell_type": "code",
      "metadata": {
        "id": "1HyECIGJfbTQ"
      },
      "source": [
        "query_obsv = 'PREFIX ca-property: <http://jresearch.ucd.ie/climate-kg/ca/property/> PREFIX sosa: <http://www.w3.org/ns/sosa/> PREFIX xsd: <http://www.w3.org/2001/XMLSchema#> SELECT ?obsv WHERE {?obsv ca-property:sourceStation <http://jresearch.ucd.ie/climate-kg/resource/station/GHCND:EI000003969>; sosa:resultTime ?date. FILTER ((?date>=\"2019-04-01\"^^xsd:date)&&(?date<=\"2021-04-01\"^^xsd:date))}'\n",
        "df_entities = endpoint_wrapper(endpoint=climate_kg, query=query_obsv)\n",
        "query_features= 'PREFIX ca-property: <http://jresearch.ucd.ie/climate-kg/ca/property/> PREFIX sosa: <http://www.w3.org/ns/sosa/> SELECT  ?station ?simpleresult  ?date ?datatype WHERE { *obsv* sosa:hasSimpleResult ?simpleresult; sosa:resultTime ?date; ca-property:sourceStation ?station; sosa:hasResult/ca-property:withDataType/ca-property:id ?datatype. }'\n",
        "df_custom_sparql = custom_sparql_generator(df_entities, \"obsv\", query_features, endpoint=climate_kg)\n",
        "df_custom_sparql"
      ],
      "execution_count": null,
      "outputs": []
    },
    {
      "cell_type": "code",
      "metadata": {
        "id": "0Nf0-zlitX-O"
      },
      "source": [
        "df_custom_sparql.to_csv('./datasets/climate-features-plus.csv')"
      ],
      "execution_count": null,
      "outputs": []
    },
    {
      "cell_type": "code",
      "metadata": {
        "colab": {
          "base_uri": "https://localhost:8080/",
          "height": 455
        },
        "id": "RUdrfAH5toND",
        "outputId": "a4b198a7-1711-47a2-a4c2-316dbab519f3"
      },
      "source": [
        "df_climate = pd.read_csv('./datasets/climate-features.csv').pivot(index='date', columns='datatype', values='simpleresult').fillna(0)\n",
        "df_climate\n"
      ],
      "execution_count": 6,
      "outputs": [
        {
          "output_type": "execute_result",
          "data": {
            "text/html": [
              "<div>\n",
              "<style scoped>\n",
              "    .dataframe tbody tr th:only-of-type {\n",
              "        vertical-align: middle;\n",
              "    }\n",
              "\n",
              "    .dataframe tbody tr th {\n",
              "        vertical-align: top;\n",
              "    }\n",
              "\n",
              "    .dataframe thead th {\n",
              "        text-align: right;\n",
              "    }\n",
              "</style>\n",
              "<table border=\"1\" class=\"dataframe\">\n",
              "  <thead>\n",
              "    <tr style=\"text-align: right;\">\n",
              "      <th>datatype</th>\n",
              "      <th>PRCP</th>\n",
              "      <th>SNWD</th>\n",
              "      <th>TAVG</th>\n",
              "      <th>TMAX</th>\n",
              "      <th>TMIN</th>\n",
              "    </tr>\n",
              "    <tr>\n",
              "      <th>date</th>\n",
              "      <th></th>\n",
              "      <th></th>\n",
              "      <th></th>\n",
              "      <th></th>\n",
              "      <th></th>\n",
              "    </tr>\n",
              "  </thead>\n",
              "  <tbody>\n",
              "    <tr>\n",
              "      <th>2019-06-01</th>\n",
              "      <td>1.2</td>\n",
              "      <td>0.0</td>\n",
              "      <td>13.3</td>\n",
              "      <td>20.0</td>\n",
              "      <td>7.5</td>\n",
              "    </tr>\n",
              "    <tr>\n",
              "      <th>2019-06-02</th>\n",
              "      <td>0.0</td>\n",
              "      <td>0.0</td>\n",
              "      <td>14.9</td>\n",
              "      <td>19.3</td>\n",
              "      <td>13.6</td>\n",
              "    </tr>\n",
              "    <tr>\n",
              "      <th>2019-06-03</th>\n",
              "      <td>9.3</td>\n",
              "      <td>0.0</td>\n",
              "      <td>11.5</td>\n",
              "      <td>17.2</td>\n",
              "      <td>8.6</td>\n",
              "    </tr>\n",
              "    <tr>\n",
              "      <th>2019-06-04</th>\n",
              "      <td>19.7</td>\n",
              "      <td>0.0</td>\n",
              "      <td>10.4</td>\n",
              "      <td>12.4</td>\n",
              "      <td>7.9</td>\n",
              "    </tr>\n",
              "    <tr>\n",
              "      <th>2019-06-05</th>\n",
              "      <td>0.3</td>\n",
              "      <td>0.0</td>\n",
              "      <td>9.9</td>\n",
              "      <td>12.6</td>\n",
              "      <td>8.8</td>\n",
              "    </tr>\n",
              "    <tr>\n",
              "      <th>...</th>\n",
              "      <td>...</td>\n",
              "      <td>...</td>\n",
              "      <td>...</td>\n",
              "      <td>...</td>\n",
              "      <td>...</td>\n",
              "    </tr>\n",
              "    <tr>\n",
              "      <th>2020-05-28</th>\n",
              "      <td>0.0</td>\n",
              "      <td>0.0</td>\n",
              "      <td>15.3</td>\n",
              "      <td>23.3</td>\n",
              "      <td>10.1</td>\n",
              "    </tr>\n",
              "    <tr>\n",
              "      <th>2020-05-29</th>\n",
              "      <td>0.0</td>\n",
              "      <td>0.0</td>\n",
              "      <td>15.8</td>\n",
              "      <td>23.5</td>\n",
              "      <td>11.3</td>\n",
              "    </tr>\n",
              "    <tr>\n",
              "      <th>2020-05-30</th>\n",
              "      <td>0.0</td>\n",
              "      <td>0.0</td>\n",
              "      <td>14.9</td>\n",
              "      <td>22.0</td>\n",
              "      <td>9.2</td>\n",
              "    </tr>\n",
              "    <tr>\n",
              "      <th>2020-05-31</th>\n",
              "      <td>0.0</td>\n",
              "      <td>0.0</td>\n",
              "      <td>14.6</td>\n",
              "      <td>21.5</td>\n",
              "      <td>9.0</td>\n",
              "    </tr>\n",
              "    <tr>\n",
              "      <th>2020-06-01</th>\n",
              "      <td>0.0</td>\n",
              "      <td>0.0</td>\n",
              "      <td>14.4</td>\n",
              "      <td>21.1</td>\n",
              "      <td>9.3</td>\n",
              "    </tr>\n",
              "  </tbody>\n",
              "</table>\n",
              "<p>367 rows × 5 columns</p>\n",
              "</div>"
            ],
            "text/plain": [
              "datatype    PRCP  SNWD  TAVG  TMAX  TMIN\n",
              "date                                    \n",
              "2019-06-01   1.2   0.0  13.3  20.0   7.5\n",
              "2019-06-02   0.0   0.0  14.9  19.3  13.6\n",
              "2019-06-03   9.3   0.0  11.5  17.2   8.6\n",
              "2019-06-04  19.7   0.0  10.4  12.4   7.9\n",
              "2019-06-05   0.3   0.0   9.9  12.6   8.8\n",
              "...          ...   ...   ...   ...   ...\n",
              "2020-05-28   0.0   0.0  15.3  23.3  10.1\n",
              "2020-05-29   0.0   0.0  15.8  23.5  11.3\n",
              "2020-05-30   0.0   0.0  14.9  22.0   9.2\n",
              "2020-05-31   0.0   0.0  14.6  21.5   9.0\n",
              "2020-06-01   0.0   0.0  14.4  21.1   9.3\n",
              "\n",
              "[367 rows x 5 columns]"
            ]
          },
          "metadata": {},
          "execution_count": 6
        }
      ]
    },
    {
      "cell_type": "code",
      "metadata": {
        "colab": {
          "base_uri": "https://localhost:8080/",
          "height": 455
        },
        "id": "jRXJqVS_zz0l",
        "outputId": "1b602076-88c4-450e-8c99-005ab371d940"
      },
      "source": [
        "df_refined = df_climate.drop(columns=['SNWD','TMAX','TMIN'])\n",
        "df_refined"
      ],
      "execution_count": 8,
      "outputs": [
        {
          "output_type": "execute_result",
          "data": {
            "text/html": [
              "<div>\n",
              "<style scoped>\n",
              "    .dataframe tbody tr th:only-of-type {\n",
              "        vertical-align: middle;\n",
              "    }\n",
              "\n",
              "    .dataframe tbody tr th {\n",
              "        vertical-align: top;\n",
              "    }\n",
              "\n",
              "    .dataframe thead th {\n",
              "        text-align: right;\n",
              "    }\n",
              "</style>\n",
              "<table border=\"1\" class=\"dataframe\">\n",
              "  <thead>\n",
              "    <tr style=\"text-align: right;\">\n",
              "      <th>datatype</th>\n",
              "      <th>PRCP</th>\n",
              "      <th>TAVG</th>\n",
              "    </tr>\n",
              "    <tr>\n",
              "      <th>date</th>\n",
              "      <th></th>\n",
              "      <th></th>\n",
              "    </tr>\n",
              "  </thead>\n",
              "  <tbody>\n",
              "    <tr>\n",
              "      <th>2019-06-01</th>\n",
              "      <td>1.2</td>\n",
              "      <td>13.3</td>\n",
              "    </tr>\n",
              "    <tr>\n",
              "      <th>2019-06-02</th>\n",
              "      <td>0.0</td>\n",
              "      <td>14.9</td>\n",
              "    </tr>\n",
              "    <tr>\n",
              "      <th>2019-06-03</th>\n",
              "      <td>9.3</td>\n",
              "      <td>11.5</td>\n",
              "    </tr>\n",
              "    <tr>\n",
              "      <th>2019-06-04</th>\n",
              "      <td>19.7</td>\n",
              "      <td>10.4</td>\n",
              "    </tr>\n",
              "    <tr>\n",
              "      <th>2019-06-05</th>\n",
              "      <td>0.3</td>\n",
              "      <td>9.9</td>\n",
              "    </tr>\n",
              "    <tr>\n",
              "      <th>...</th>\n",
              "      <td>...</td>\n",
              "      <td>...</td>\n",
              "    </tr>\n",
              "    <tr>\n",
              "      <th>2020-05-28</th>\n",
              "      <td>0.0</td>\n",
              "      <td>15.3</td>\n",
              "    </tr>\n",
              "    <tr>\n",
              "      <th>2020-05-29</th>\n",
              "      <td>0.0</td>\n",
              "      <td>15.8</td>\n",
              "    </tr>\n",
              "    <tr>\n",
              "      <th>2020-05-30</th>\n",
              "      <td>0.0</td>\n",
              "      <td>14.9</td>\n",
              "    </tr>\n",
              "    <tr>\n",
              "      <th>2020-05-31</th>\n",
              "      <td>0.0</td>\n",
              "      <td>14.6</td>\n",
              "    </tr>\n",
              "    <tr>\n",
              "      <th>2020-06-01</th>\n",
              "      <td>0.0</td>\n",
              "      <td>14.4</td>\n",
              "    </tr>\n",
              "  </tbody>\n",
              "</table>\n",
              "<p>367 rows × 2 columns</p>\n",
              "</div>"
            ],
            "text/plain": [
              "datatype    PRCP  TAVG\n",
              "date                  \n",
              "2019-06-01   1.2  13.3\n",
              "2019-06-02   0.0  14.9\n",
              "2019-06-03   9.3  11.5\n",
              "2019-06-04  19.7  10.4\n",
              "2019-06-05   0.3   9.9\n",
              "...          ...   ...\n",
              "2020-05-28   0.0  15.3\n",
              "2020-05-29   0.0  15.8\n",
              "2020-05-30   0.0  14.9\n",
              "2020-05-31   0.0  14.6\n",
              "2020-06-01   0.0  14.4\n",
              "\n",
              "[367 rows x 2 columns]"
            ]
          },
          "metadata": {},
          "execution_count": 8
        }
      ]
    },
    {
      "cell_type": "code",
      "metadata": {
        "id": "_Hjtu31B2Ii-"
      },
      "source": [
        "values = df_refined.values\n",
        "values"
      ],
      "execution_count": null,
      "outputs": []
    },
    {
      "cell_type": "markdown",
      "metadata": {
        "id": "ExCF8tLMDiKA"
      },
      "source": [
        "###Create the supervised dataset"
      ]
    },
    {
      "cell_type": "code",
      "metadata": {
        "colab": {
          "base_uri": "https://localhost:8080/",
          "height": 423
        },
        "id": "VgJ6TMc5zVQS",
        "outputId": "f86539af-29fc-4fa9-d379-ce5fcd7a6bea"
      },
      "source": [
        "df_raw = series_to_supervised(values,2,1).drop(columns='var2(t)')\n",
        "df_raw"
      ],
      "execution_count": 13,
      "outputs": [
        {
          "output_type": "execute_result",
          "data": {
            "text/html": [
              "<div>\n",
              "<style scoped>\n",
              "    .dataframe tbody tr th:only-of-type {\n",
              "        vertical-align: middle;\n",
              "    }\n",
              "\n",
              "    .dataframe tbody tr th {\n",
              "        vertical-align: top;\n",
              "    }\n",
              "\n",
              "    .dataframe thead th {\n",
              "        text-align: right;\n",
              "    }\n",
              "</style>\n",
              "<table border=\"1\" class=\"dataframe\">\n",
              "  <thead>\n",
              "    <tr style=\"text-align: right;\">\n",
              "      <th></th>\n",
              "      <th>var1(t-2)</th>\n",
              "      <th>var2(t-2)</th>\n",
              "      <th>var1(t-1)</th>\n",
              "      <th>var2(t-1)</th>\n",
              "      <th>var1(t)</th>\n",
              "    </tr>\n",
              "  </thead>\n",
              "  <tbody>\n",
              "    <tr>\n",
              "      <th>2</th>\n",
              "      <td>1.2</td>\n",
              "      <td>13.3</td>\n",
              "      <td>0.0</td>\n",
              "      <td>14.9</td>\n",
              "      <td>9.3</td>\n",
              "    </tr>\n",
              "    <tr>\n",
              "      <th>3</th>\n",
              "      <td>0.0</td>\n",
              "      <td>14.9</td>\n",
              "      <td>9.3</td>\n",
              "      <td>11.5</td>\n",
              "      <td>19.7</td>\n",
              "    </tr>\n",
              "    <tr>\n",
              "      <th>4</th>\n",
              "      <td>9.3</td>\n",
              "      <td>11.5</td>\n",
              "      <td>19.7</td>\n",
              "      <td>10.4</td>\n",
              "      <td>0.3</td>\n",
              "    </tr>\n",
              "    <tr>\n",
              "      <th>5</th>\n",
              "      <td>19.7</td>\n",
              "      <td>10.4</td>\n",
              "      <td>0.3</td>\n",
              "      <td>9.9</td>\n",
              "      <td>0.2</td>\n",
              "    </tr>\n",
              "    <tr>\n",
              "      <th>6</th>\n",
              "      <td>0.3</td>\n",
              "      <td>9.9</td>\n",
              "      <td>0.2</td>\n",
              "      <td>10.2</td>\n",
              "      <td>0.0</td>\n",
              "    </tr>\n",
              "    <tr>\n",
              "      <th>...</th>\n",
              "      <td>...</td>\n",
              "      <td>...</td>\n",
              "      <td>...</td>\n",
              "      <td>...</td>\n",
              "      <td>...</td>\n",
              "    </tr>\n",
              "    <tr>\n",
              "      <th>362</th>\n",
              "      <td>0.0</td>\n",
              "      <td>14.8</td>\n",
              "      <td>0.0</td>\n",
              "      <td>13.9</td>\n",
              "      <td>0.0</td>\n",
              "    </tr>\n",
              "    <tr>\n",
              "      <th>363</th>\n",
              "      <td>0.0</td>\n",
              "      <td>13.9</td>\n",
              "      <td>0.0</td>\n",
              "      <td>15.3</td>\n",
              "      <td>0.0</td>\n",
              "    </tr>\n",
              "    <tr>\n",
              "      <th>364</th>\n",
              "      <td>0.0</td>\n",
              "      <td>15.3</td>\n",
              "      <td>0.0</td>\n",
              "      <td>15.8</td>\n",
              "      <td>0.0</td>\n",
              "    </tr>\n",
              "    <tr>\n",
              "      <th>365</th>\n",
              "      <td>0.0</td>\n",
              "      <td>15.8</td>\n",
              "      <td>0.0</td>\n",
              "      <td>14.9</td>\n",
              "      <td>0.0</td>\n",
              "    </tr>\n",
              "    <tr>\n",
              "      <th>366</th>\n",
              "      <td>0.0</td>\n",
              "      <td>14.9</td>\n",
              "      <td>0.0</td>\n",
              "      <td>14.6</td>\n",
              "      <td>0.0</td>\n",
              "    </tr>\n",
              "  </tbody>\n",
              "</table>\n",
              "<p>365 rows × 5 columns</p>\n",
              "</div>"
            ],
            "text/plain": [
              "     var1(t-2)  var2(t-2)  var1(t-1)  var2(t-1)  var1(t)\n",
              "2          1.2       13.3        0.0       14.9      9.3\n",
              "3          0.0       14.9        9.3       11.5     19.7\n",
              "4          9.3       11.5       19.7       10.4      0.3\n",
              "5         19.7       10.4        0.3        9.9      0.2\n",
              "6          0.3        9.9        0.2       10.2      0.0\n",
              "..         ...        ...        ...        ...      ...\n",
              "362        0.0       14.8        0.0       13.9      0.0\n",
              "363        0.0       13.9        0.0       15.3      0.0\n",
              "364        0.0       15.3        0.0       15.8      0.0\n",
              "365        0.0       15.8        0.0       14.9      0.0\n",
              "366        0.0       14.9        0.0       14.6      0.0\n",
              "\n",
              "[365 rows x 5 columns]"
            ]
          },
          "metadata": {},
          "execution_count": 13
        }
      ]
    },
    {
      "cell_type": "markdown",
      "metadata": {
        "id": "eW-j__jvUyCT"
      },
      "source": [
        "###Rainfall detection"
      ]
    },
    {
      "cell_type": "markdown",
      "metadata": {
        "id": "MuuLTMdiAdbA"
      },
      "source": [
        "####Create training set"
      ]
    },
    {
      "cell_type": "code",
      "metadata": {
        "id": "koSEQb0YDpqH"
      },
      "source": [
        "df_raw['var1(t)'] = df_raw['var1(t)'].map(prcp_map)\n",
        "label_binarizer = preprocessing.LabelBinarizer()\n",
        "y = label_binarizer.fit_transform(df_raw['var1(t)']).ravel()\n",
        "X = df_raw.drop(columns='var1(t)')\n",
        "X_train, X_test, y_train, y_test =  train_test_split(X,y, test_size=0.33, stratify=y, random_state=42)"
      ],
      "execution_count": 14,
      "outputs": []
    },
    {
      "cell_type": "markdown",
      "metadata": {
        "id": "KQTDOdRQLGoZ"
      },
      "source": [
        "####Build the model"
      ]
    },
    {
      "cell_type": "markdown",
      "metadata": {
        "id": "EBWp9xOEnLpE"
      },
      "source": [
        "####Random Forest Classifier"
      ]
    },
    {
      "cell_type": "code",
      "metadata": {
        "colab": {
          "base_uri": "https://localhost:8080/",
          "height": 441
        },
        "id": "kM1MVIB-0Mg-",
        "outputId": "af9876ac-42da-4929-e2a0-e597f699daf4"
      },
      "source": [
        "clf = RandomForestClassifier(random_state=1235).fit(X_train, y_train)\n",
        "y_pred = clf.predict(X_test)\n",
        "\n",
        "print(classification_report(y_test, y_pred, target_names=label_binarizer.classes_))\n",
        "ConfusionMatrixDisplay(confusion_matrix=confusion_matrix(y_test, y_pred, normalize=\"true\"), display_labels=label_binarizer.classes_).plot()\n",
        "plt.show()"
      ],
      "execution_count": 15,
      "outputs": [
        {
          "output_type": "stream",
          "name": "stdout",
          "text": [
            "              precision    recall  f1-score   support\n",
            "\n",
            "          no       0.51      0.54      0.52        50\n",
            "         yes       0.66      0.63      0.65        71\n",
            "\n",
            "    accuracy                           0.60       121\n",
            "   macro avg       0.59      0.59      0.59       121\n",
            "weighted avg       0.60      0.60      0.60       121\n",
            "\n"
          ]
        },
        {
          "output_type": "display_data",
          "data": {
            "image/png": "[encoded data removed]",
            "text/plain": [
              "<Figure size 432x288 with 2 Axes>"
            ]
          },
          "metadata": {
            "needs_background": "light"
          }
        }
      ]
    }
  ]
}